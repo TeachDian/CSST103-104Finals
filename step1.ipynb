{
 "cells": [
  {
   "cell_type": "code",
   "execution_count": 7,
   "metadata": {},
   "outputs": [],
   "source": [
    "import PyPDF2\n",
    "\n",
    "def extract_text_from_pdf(pdf_path):\n",
    "    text = \"\"\n",
    "    with open(pdf_path, 'rb') as file:\n",
    "        pdf_reader = PyPDF2.PdfReader(file)\n",
    "        for page_num in range(len(pdf_reader.pages)):\n",
    "            text += pdf_reader.pages[page_num].extract_text()\n",
    "    return text"
   ]
  },
  {
   "cell_type": "code",
   "execution_count": 8,
   "metadata": {},
   "outputs": [],
   "source": [
    "import re\n",
    "\n",
    "def preprocess_text(text):\n",
    "    text = text.lower()  # Convert text to lowercase\n",
    "    text = re.sub(r'[^\\w\\s]', '', text)  # Remove punctuation\n",
    "    # Other preprocessing steps such as tokenization, removing stopwords, etc.\n",
    "    return text\n"
   ]
  },
  {
   "cell_type": "code",
   "execution_count": 9,
   "metadata": {},
   "outputs": [],
   "source": [
    "import pandas as pd\n",
    "\n",
    "# Assuming you have a list of file paths for your legal documents\n",
    "document_paths = ['1987-Constituion-of-the-Philippines-PDF.pdf','RA7394_Consumer-Act-of-the-Phils.pdf','Malolos-Constitution.pdf','1935-constitution-of-the-philippines.pdf','1973-Constitution-of-the-Philippines.pdf']\n",
    "\n",
    "# Extract text from documents and preprocess it\n",
    "preprocessed_texts = []\n",
    "for path in document_paths:\n",
    "    text = extract_text_from_pdf(path)\n",
    "    preprocessed_text = preprocess_text(text)\n",
    "    preprocessed_texts.append(preprocessed_text)\n",
    "\n",
    "# Create DataFrame\n",
    "data = pd.DataFrame({'text': preprocessed_texts})\n",
    "\n",
    "# Save DataFrame to CSV file if needed\n",
    "data.to_csv('legal_documents.csv', index=False)\n"
   ]
  }
 ],
 "metadata": {
  "kernelspec": {
   "display_name": "Python 3",
   "language": "python",
   "name": "python3"
  },
  "language_info": {
   "codemirror_mode": {
    "name": "ipython",
    "version": 3
   },
   "file_extension": ".py",
   "mimetype": "text/x-python",
   "name": "python",
   "nbconvert_exporter": "python",
   "pygments_lexer": "ipython3",
   "version": "3.12.3"
  }
 },
 "nbformat": 4,
 "nbformat_minor": 2
}
