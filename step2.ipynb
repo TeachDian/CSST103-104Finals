{
 "cells": [
  {
   "cell_type": "code",
   "execution_count": null,
   "metadata": {},
   "outputs": [],
   "source": [
    "import pandas as pd\n",
    "import numpy as np\n",
    "from sklearn.feature_extraction.text import TfidfVectorizer\n",
    "from sklearn.cluster import KMeans\n",
    "from sklearn.metrics import silhouette_score\n",
    "import matplotlib.pyplot as plt\n"
   ]
  },
  {
   "cell_type": "code",
   "execution_count": null,
   "metadata": {},
   "outputs": [],
   "source": [
    "# Load data from CSV file\n",
    "data = pd.read_csv('legal_documents.csv')\n",
    "\n",
    "# Display the first few rows of the DataFrame\n",
    "print(data.head())\n"
   ]
  },
  {
   "cell_type": "code",
   "execution_count": null,
   "metadata": {},
   "outputs": [],
   "source": [
    "# Display the columns of the DataFrame\n",
    "print(data.columns)# Preprocess text data (tokenization, lowercase, remove punctuation, etc.)\n",
    "# You can use libraries like NLTK or SpaCy for more advanced preprocessing\n",
    "# Here's a simple example using lowercasing and removing punctuation\n",
    "data['processed_text'] = data['text'].str.lower().replace('[^\\w\\s]','')\n",
    "# Initialize TF-IDF vectorizer\n",
    "tfidf_vectorizer = TfidfVectorizer(max_features=1000)  # Adjust max_features as needed\n",
    "\n",
    "# Fit and transform the processed text\n",
    "tfidf_matrix = tfidf_vectorizer.fit_transform(data['processed_text'])\n",
    "\n",
    "# Convert the TF-IDF matrix to a dense array\n",
    "tfidf_matrix_dense = tfidf_matrix.toarray()\n",
    "\n"
   ]
  },
  {
   "cell_type": "code",
   "execution_count": null,
   "metadata": {},
   "outputs": [],
   "source": [
    "# Check the shape of the TF-IDF matrix\n",
    "print(\"TF-IDF Matrix Shape:\", tfidf_matrix_dense.shape)\n",
    "\n",
    "# Print the number of documents\n",
    "num_documents = tfidf_matrix_dense.shape[0]\n",
    "print(\"Number of Documents:\", num_documents)\n",
    "\n",
    "# Fit the K-means model only if the number of documents is greater than or equal to the number of clusters\n",
    "if num_documents >= k:\n",
    "    kmeans.fit(tfidf_matrix_dense)\n",
    "    cluster_labels = kmeans.labels_\n",
    "else:\n",
    "    print(\"Error: Number of documents is less than the number of clusters.\")\n"
   ]
  },
  {
   "cell_type": "code",
   "execution_count": null,
   "metadata": {},
   "outputs": [],
   "source": [
    "# Adjust the number of clusters based on the number of documents\n",
    "k = min(k, num_documents)\n",
    "\n",
    "# Fit the K-means model\n",
    "kmeans.fit(tfidf_matrix_dense)\n",
    "cluster_labels = kmeans.labels_\n"
   ]
  },
  {
   "cell_type": "code",
   "execution_count": null,
   "metadata": {},
   "outputs": [],
   "source": [
    "# Adjust the number of clusters if it's equal to or greater than the number of samples\n",
    "k = min(k, num_documents - 1)\n",
    "\n",
    "# Evaluate clustering performance using silhouette score\n",
    "if k > 1:\n",
    "    silhouette_avg = silhouette_score(tfidf_matrix_dense, cluster_labels)\n",
    "    print(\"Silhouette Score:\", silhouette_avg)\n",
    "else:\n",
    "    print(\"Error: Number of clusters should be greater than 1 to calculate silhouette score.\")\n"
   ]
  },
  {
   "cell_type": "code",
   "execution_count": null,
   "metadata": {},
   "outputs": [],
   "source": [
    "# Adjust the number of clusters\n",
    "k = min(k, 1)\n",
    "\n",
    "# Fit the K-means model\n",
    "kmeans.fit(tfidf_matrix_dense)\n",
    "cluster_labels = kmeans.labels_\n",
    "\n",
    "# Visualize clusters\n",
    "plt.scatter(tfidf_matrix_dense[:, 0], tfidf_matrix_dense[:, 1], c=cluster_labels, cmap='viridis')\n",
    "plt.xlabel('TF-IDF Feature 1')\n",
    "plt.ylabel('TF-IDF Feature 2')\n",
    "plt.title('TF-IDF Clustering')\n",
    "plt.show()\n"
   ]
  }
 ],
 "metadata": {
  "kernelspec": {
   "display_name": "Python 3",
   "language": "python",
   "name": "python3"
  },
  "language_info": {
   "codemirror_mode": {
    "name": "ipython",
    "version": 3
   },
   "file_extension": ".py",
   "mimetype": "text/x-python",
   "name": "python",
   "nbconvert_exporter": "python",
   "pygments_lexer": "ipython3",
   "version": "3.12.3"
  }
 },
 "nbformat": 4,
 "nbformat_minor": 2
}
